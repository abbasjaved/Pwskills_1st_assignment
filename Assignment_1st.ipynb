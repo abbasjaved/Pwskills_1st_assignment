{
 "cells": [
  {
   "cell_type": "code",
   "execution_count": 9,
   "id": "4b99e621-23b4-489b-be38-20e76ab3a3c0",
   "metadata": {},
   "outputs": [],
   "source": [
    "#question 1\n",
    "#ans - Guido van Rossum"
   ]
  },
  {
   "cell_type": "code",
   "execution_count": 5,
   "id": "934f3781-f185-4e74-b3db-4e0d8d80fb51",
   "metadata": {},
   "outputs": [],
   "source": [
    "#question 2\n",
    "#Ans - Object-oriented programming and structured programming "
   ]
  },
  {
   "cell_type": "code",
   "execution_count": 8,
   "id": "b1e3fd7a-2dfb-4a2d-a117-ed899e1ad626",
   "metadata": {},
   "outputs": [],
   "source": [
    "#question 3\n",
    "#ans -  YES, Python is case sensitive language"
   ]
  },
  {
   "cell_type": "code",
   "execution_count": 10,
   "id": "40aee071-3672-41db-a9ec-4f10e4f75f79",
   "metadata": {},
   "outputs": [],
   "source": [
    "#question 4\n",
    "#ans - .py"
   ]
  },
  {
   "cell_type": "code",
   "execution_count": 14,
   "id": "36342e1e-5f2d-4d7c-be42-60dd137aa864",
   "metadata": {},
   "outputs": [],
   "source": [
    "#question 5\n",
    "#ans - Python is an interpreted language not compiled language. C and C++ language is compiled language"
   ]
  },
  {
   "cell_type": "code",
   "execution_count": 16,
   "id": "0c99942a-2348-45e1-9a31-9beb9eaeda9a",
   "metadata": {},
   "outputs": [],
   "source": [
    "#question 6\n",
    "#ans - indentation is used to define blocks of code and curly bracket {}"
   ]
  },
  {
   "cell_type": "code",
   "execution_count": 17,
   "id": "a54a3476-142f-46bb-8fde-d021575fa68f",
   "metadata": {},
   "outputs": [],
   "source": [
    "#question 7\n",
    "#ans - Hase character(#)"
   ]
  },
  {
   "cell_type": "code",
   "execution_count": 22,
   "id": "e08ea1f0-e946-4366-8583-8bfab5827697",
   "metadata": {},
   "outputs": [],
   "source": [
    "#question 8\n",
    "#ans - sys.version"
   ]
  },
  {
   "cell_type": "code",
   "execution_count": 42,
   "id": "7c4b2dec-84e6-47c8-9e49-a0dd083cc3bc",
   "metadata": {},
   "outputs": [],
   "source": [
    "#question 9\n",
    "#ans - lambda"
   ]
  },
  {
   "cell_type": "code",
   "execution_count": 43,
   "id": "6b183f88-9f3a-4bab-9bce-f15bd7a914c5",
   "metadata": {},
   "outputs": [],
   "source": [
    "#question 10\n",
    "#ans - preferred installer program"
   ]
  },
  {
   "cell_type": "code",
   "execution_count": 45,
   "id": "a24b3fed-dca9-4f6d-ac03-0523720dbee6",
   "metadata": {},
   "outputs": [],
   "source": [
    "#question 11\n",
    "#ans - bool(), dict(), float(), int(), print(), sum()"
   ]
  },
  {
   "cell_type": "code",
   "execution_count": 46,
   "id": "c9ca5cbc-5ea6-40ef-9c3d-29c3ddcb64c7",
   "metadata": {},
   "outputs": [],
   "source": [
    "#question 12\n",
    "#ans - 79 characters in python"
   ]
  },
  {
   "cell_type": "code",
   "execution_count": 47,
   "id": "c2891492-1890-48d3-93ee-780eb5de28e2",
   "metadata": {},
   "outputs": [],
   "source": [
    "#question 13\n",
    "#ans - we can use python for machine learning, web processing, and even biology "
   ]
  },
  {
   "cell_type": "code",
   "execution_count": 48,
   "id": "0039e529-46f0-4943-b4f0-9ad8f70a2224",
   "metadata": {},
   "outputs": [],
   "source": [
    "#question 14\n",
    "#ans - Memory management in Python involves a private heap containing all Python objects and data structures."
   ]
  },
  {
   "cell_type": "code",
   "execution_count": 50,
   "id": "d8ee2147-0b77-4394-bd35-8c5b178e678f",
   "metadata": {},
   "outputs": [
    {
     "data": {
      "text/plain": [
       "'Right-clicking This PC and going to Properties.\\nClicking on the Advanced system settings in the menu on the left.\\nClicking on the Environment Variables button o\\u200bn the bottom right.\\nIn the System variables section, selecting the Path variable and clicking on Edit.'"
      ]
     },
     "execution_count": 50,
     "metadata": {},
     "output_type": "execute_result"
    }
   ],
   "source": [
    "#question 15\n",
    "#ans - \n",
    "'''Right-clicking This PC and going to Properties.\n",
    "Clicking on the Advanced system settings in the menu on the left.\n",
    "Clicking on the Environment Variables button o​n the bottom right.\n",
    "In the System variables section, selecting the Path variable and clicking on Edit.'''"
   ]
  },
  {
   "cell_type": "code",
   "execution_count": null,
   "id": "a28bf9b1-a099-48f0-a955-70c9bb5fb4e1",
   "metadata": {},
   "outputs": [],
   "source": [
    "#question 16\n",
    "#ans "
   ]
  }
 ],
 "metadata": {
  "kernelspec": {
   "display_name": "Python 3 (ipykernel)",
   "language": "python",
   "name": "python3"
  },
  "language_info": {
   "codemirror_mode": {
    "name": "ipython",
    "version": 3
   },
   "file_extension": ".py",
   "mimetype": "text/x-python",
   "name": "python",
   "nbconvert_exporter": "python",
   "pygments_lexer": "ipython3",
   "version": "3.10.8"
  }
 },
 "nbformat": 4,
 "nbformat_minor": 5
}
